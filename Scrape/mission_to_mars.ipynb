{
 "cells": [
  {
   "cell_type": "markdown",
   "metadata": {},
   "source": [
    "## Part 1 Nasa Mars web scraping"
   ]
  },
  {
   "cell_type": "code",
   "execution_count": null,
   "metadata": {
    "scrolled": true
   },
   "outputs": [],
   "source": [
    "!pip install selenium"
   ]
  },
  {
   "cell_type": "code",
   "execution_count": 26,
   "metadata": {},
   "outputs": [],
   "source": [
    "from selenium import webdriver\n",
    "from selenium.webdriver.common.keys import Keys\n",
    "from selenium.webdriver.common.by import By\n",
    "from selenium.webdriver.support.ui import WebDriverWait\n",
    "from selenium.webdriver.support import expected_conditions as EC\n",
    "from selenium.webdriver.common.action_chains import ActionChains\n",
    "import requests\n",
    "import time\n",
    "import pymongo\n",
    "from bs4 import BeautifulSoup\n",
    "import pandas as pd"
   ]
  },
  {
   "cell_type": "code",
   "execution_count": 2,
   "metadata": {},
   "outputs": [],
   "source": [
    "url = \"https://mars.nasa.gov/news/?page=0&per_page=40&order=publish_date+desc%2Ccreated_at+desc&search=&category=19%2C165%2C184%2C204&blank_scope=Latest\""
   ]
  },
  {
   "cell_type": "code",
   "execution_count": 4,
   "metadata": {},
   "outputs": [],
   "source": [
    "article_header = 'slide'\n",
    "content_title = 'content_title'\n",
    "content_body = 'article_teaser_body'\n",
    "wait_element = 'news'\n",
    "    \n",
    "    # intializing webdriver\n",
    "driver = webdriver.Chrome('C:/Users/L-Ram/Desktop/web-scraping-challenge/chromedriver.exe')\n",
    "    # get url and wait until page is fully loaded before proceeding\n",
    "driver.get(url)\n",
    "try:\n",
    "    element = WebDriverWait(driver, 10).until(\n",
    "    EC.presence_of_element_located((By.ID,wait_element))\n",
    "        )\n",
    "except:\n",
    "    pass"
   ]
  },
  {
   "cell_type": "code",
   "execution_count": 5,
   "metadata": {},
   "outputs": [],
   "source": [
    "# Return a list of divs that hold the articles\n",
    "articles = driver.find_elements_by_class_name(article_header)"
   ]
  },
  {
   "cell_type": "code",
   "execution_count": 13,
   "metadata": {},
   "outputs": [
    {
     "name": "stdout",
     "output_type": "stream",
     "text": [
      "NASA's Curiosity Keeps Rolling As Team Operates Rover From Home\n",
      "Mars Helicopter Attached to NASA's Perseverance Rover\n",
      "NASA's Perseverance Mars Rover Gets Its Wheels and Air Brakes\n",
      "The Man Who Wanted to Fly on Mars\n",
      "10.9 Million Names Now Aboard NASA's Perseverance Mars Rover\n",
      "NASA's Curiosity Mars Rover Takes a New Selfie Before Record Climb\n",
      "NASA's Mars Perseverance Rover Gets Its Sample Handling System\n",
      "Virginia Middle School Student Earns Honor of Naming NASA's Next Mars Rover\n",
      "NASA's Curiosity Mars Rover Snaps Its Highest-Resolution Panorama Yet\n",
      "NASA to Reveal Name of Its Next Mars Rover\n",
      "The MarCO Mission Comes to an End\n",
      "A Year of Surprising Science From NASA's InSight Mars Mission\n",
      "Mars InSight Lander to Push on Top of the 'Mole'\n",
      "Common Questions about InSight's 'Mole'\n",
      "NASA Adds Return Sample Scientists to Mars 2020 Leadership Team\n",
      "NASA's Mars Reconnaissance Orbiter Undergoes Memory Update\n",
      "NASA's Mars 2020 Rover Goes Coast-to-Coast to Prep for Launch\n",
      "NASA Prepares for Moon and Mars With New Addition to Its Deep Space Network\n",
      "NASA Administrator Statement on Moon to Mars Initiative, FY 2021 Budget\n",
      "All About the Laser (and Microphone) Atop Mars 2020, NASA's Next Rover\n",
      "NASA's MAVEN Explores Mars to Understand Radio Interference at Earth\n",
      "Nine Finalists Chosen in NASA's Mars 2020 Rover Naming Contest\n",
      "NASA's Mars 2020 Rover Closer to Getting Its Name\n",
      "Media Get a Close-Up of NASA's Mars 2020 Rover\n",
      "Space History Is Made in This NASA Robot Factory\n",
      "NASA's Mars 2020 Rover Completes Its First Drive\n",
      "NASA's MAVEN Maps Winds in the Martian Upper Atmosphere that Mirror the Terrain Below and Gives Clues to Martian Climate\n",
      "Newfound Martian Aurora Actually the Most Common; Sheds Light on Mars' Changing Climate\n",
      "NASA's Treasure Map for Water Ice on Mars\n",
      "Two Rovers to Roll on Mars Again: Curiosity and Mars 2020\n",
      "NASA's Briefcase-Size MarCO Satellite Picks Up Honors\n",
      "Global Storms on Mars Launch Dust Towers Into the Sky\n",
      "NASA Updates Mars 2020 Mission Environmental Review\n",
      "Two of a Space Kind: Apollo 12 and Mars 2020\n",
      "Mars Scientists Investigate Ancient Life in Australia\n",
      "NASA's Mars 2020 Will Hunt for Microscopic Fossils\n",
      "With Mars Methane Mystery Unsolved, Curiosity Serves Scientists a New One: Oxygen\n",
      "NASA's Mars 2020 Heads Into the Test Chamber\n",
      "Screening Soon: 'The Pathfinders' Trains Lens on Mars\n",
      "InSight's 'Mole' Team Peers into the Pit\n",
      "\n",
      "\n",
      "\n",
      "Mars Helicopter Attached to NASA's Perseverance Rover\n",
      "NASA's Perseverance Mars Rover Gets Its Wheels and Air Brakes\n",
      "10.9 Million Names Now Aboard NASA's Perseverance Mars Rover\n",
      "\n",
      "\n",
      "\n",
      "\n",
      "\n",
      "\n"
     ]
    }
   ],
   "source": [
    "for article in articles:\n",
    "    try:\n",
    "        print(article.find_element_by_class_name(content_title).text)\n",
    "    except:\n",
    "        pass"
   ]
  },
  {
   "cell_type": "code",
   "execution_count": 12,
   "metadata": {},
   "outputs": [
    {
     "name": "stdout",
     "output_type": "stream",
     "text": [
      "The team has learned to meet new challenges as they work remotely on the Mars mission.\n",
      "The team also fueled the rover's sky crane to get ready for this summer's history-making launch.\n",
      "After the rover was shipped from JPL to Kennedy Space Center, the team is getting closer to finalizing the spacecraft for launch later this summer.\n",
      "The Mars Helicopter is riding to the Red Planet this summer with NASA's Perseverance rover. The helicopter's chief engineer, Bob Balaram, shares the saga of how it came into being.\n",
      "As part of NASA's 'Send Your Name to Mars' campaign, they've been stenciled onto three microchips along with essays from NASA's 'Name the Rover' contest. Next stop: Mars.\n",
      "Along with capturing an image before its steepest ascent ever, the robotic explorer filmed its \"selfie stick,\" or robotic arm, in action.\n",
      "The system will be collecting and storing Martian rock and soil. Its installation marks another milestone in the march toward the July launch period.\n",
      "NASA chose a seventh-grader from Virginia as winner of the agency's \"Name the Rover\" essay contest. Alexander Mather's entry for \"Perseverance\" was voted tops among 28,000 entries.\n",
      "To go along with the stunning 1.8-billion-pixel image, a new video offers a sweeping view of the Red Planet.\n",
      "After a months-long contest among students to name NASA's newest Mars rover, the agency will reveal the winning name — and the winning student — this Thursday.\n",
      "The pair of briefcase-sized satellites made history when they sailed past Mars in 2019.\n",
      "A batch of new papers summarizes the lander's findings above and below the surface of the Red Planet.\n",
      "Engineers have a plan for pushing down on the heat probe, which has been stuck at the Martian surface for a year.\n",
      "The following Q&As with members of the team answer some of the most common questions about the burrowing device, part of a science instrument called the Heat Flow and Physical Properties Package (HP3).\n",
      "The leadership council for Mars 2020 science added two new members who represent the interests of scientists destined to handle and study the first samples from Red Planet.\n",
      "Other orbiters will continue relaying data from Mars surface missions for a two-week period.\n",
      "The agency's first step in returning rocks from Mars just arrived at Kennedy Space Center. The Mars 2020 team now begins readying for a launch to the Red Planet this July.\n",
      "Robotic spacecraft will be able to communicate with the dish using radio waves and lasers.\n",
      "Jim Bridenstine addresses NASA's ambitious plans for the coming years, including Mars Sample Return.\n",
      "SuperCam is a rock-vaporizing instrument that will help scientists hunt for Mars fossils.\n",
      "NASA’s MAVEN spacecraft has discovered “layers” and “rifts” in the electrically charged part of the upper atmosphere of Mars.\n",
      "Nine finalists have been chosen in the essay contest for K-12 students across U.S. to name NASA's next Mars rover. Now you can help by voting for your favorite.\n",
      "155 students from across the U.S. have been chosen as semifinalists in NASA's essay contest to name the Mars 2020 rover, and see it launch from Cape Canaveral this July.\n",
      "The clean room at NASA's Jet Propulsion Laboratory was open to the media to see NASA's next Mars explorer before it leaves for Florida in preparation for a summertime launch.\n",
      "From rockets to rovers, JPL's Spacecraft Assembly Facility has been at the center of robotic spaceflight. Here's a closer look at what makes it so special.\n",
      "In a 10-plus-hour marathon, the rover steered, turned and drove in 3-foot (1-meter) increments over small ramps.\n",
      "Researchers have created the first map of wind circulation in the upper atmosphere of a planet besides Earth, using data from NASA’s MAVEN spacecraft that were collected during the last two years.\n",
      "A type of Martian aurora first identified by NASA’s MAVEN spacecraft in 2016 is actually the most common form of aurora occurring on the Red Planet, according to new results from the mission.\n",
      "A new study identifies frozen water just below the Martian surface, where astronauts could easily dig it up.\n",
      "They look like twins. But under the hood, the rover currently exploring the Red Planet and the one launching there this summer have distinct science tools and roles to play.\n",
      "The twin spacecraft, the first of their kind to fly into deep space, earn a Laureate from Aviation Week & Space Technology.\n",
      "A Mars Dust Tower Stands Out Dust storms are common on Mars. But every decade or so, something unpredictable happens: a series of runaway storms break out, covering the entire planet in a dusty haze.\n",
      "NASA and the Department of Energy have completed a more detailed risk analysis for the Mars 2020 rover launch from Florida.\n",
      "Apollo 12 and the upcoming Mars 2020 mission may be separated by half a century, but they share several goals unique in the annals of space exploration.\n",
      "Teams with NASA's Mars 2020 and ESA's ExoMars practiced hunting for fossilized microbial life in the Australian Outback in preparation for their Red Planet missions.\n",
      "A new paper identifies a ring of minerals at the rover's landing site that are ideal for fossilizing microbial life.\n",
      "For the first time in the history of space exploration, scientists have measured the seasonal changes in the gases that fill the air directly above the surface of Gale Crater on Mars.\n",
      "In this time-lapse video taken at JPL, engineers move the Mars 2020 rover into a large vacuum chamber for testing in Mars-like environmental conditions.\n",
      "With the Mars 2020 mission ramping up, the documentary — the first of four about past JPL missions to the Red Planet to be shown at Caltech — tells a gripping backstory.\n",
      "Efforts to save the heat probe continue.\n"
     ]
    }
   ],
   "source": [
    "for article in articles:\n",
    "    try:\n",
    "        print(article.find_element_by_class_name(content_body).text)\n",
    "    except:\n",
    "        pass"
   ]
  },
  {
   "cell_type": "code",
   "execution_count": 15,
   "metadata": {},
   "outputs": [
    {
     "data": {
      "text/plain": [
       "'The team has learned to meet new challenges as they work remotely on the Mars mission.'"
      ]
     },
     "execution_count": 15,
     "metadata": {},
     "output_type": "execute_result"
    }
   ],
   "source": [
    "articles[0].find_element_by_class_name(content_title).text\n",
    "articles[0].find_element_by_class_name(content_body).text"
   ]
  },
  {
   "cell_type": "markdown",
   "metadata": {},
   "source": [
    "## Part 2 Mars Space Images"
   ]
  },
  {
   "cell_type": "code",
   "execution_count": 21,
   "metadata": {},
   "outputs": [],
   "source": [
    "#Getting the IMG file\n",
    "featured_image_url = \"https://www.jpl.nasa.gov/spaceimages/?search=&category=Mars\"\n",
    "featured_image_response = requests.get(featured_image_url)\n",
    "if featured_image_response.status_code == 200:\n",
    "    featured_image_html = featured_image_response.text"
   ]
  },
  {
   "cell_type": "code",
   "execution_count": 22,
   "metadata": {},
   "outputs": [
    {
     "data": {
      "text/plain": [
       "'https://www.jpl.nasa.gov/spaceimages/images/mediumsize/PIA16220_ip.jpg'"
      ]
     },
     "execution_count": 22,
     "metadata": {},
     "output_type": "execute_result"
    }
   ],
   "source": [
    "featured_image_soup = BeautifulSoup(featured_image_html, \"html.parser\")\n",
    "image_element = featured_image_soup.find(\"a\", {\"class\": \"button fancybox\"}).get('data-fancybox-href')\n",
    "\"https://www.jpl.nasa.gov\" + image_element"
   ]
  },
  {
   "cell_type": "markdown",
   "metadata": {},
   "source": [
    "## Part 3 Mars Weather"
   ]
  },
  {
   "cell_type": "code",
   "execution_count": 23,
   "metadata": {},
   "outputs": [],
   "source": [
    "weather_tweets_url = \"https://twitter.com/marswxreport?lang=en\"\n",
    "driver.get(weather_tweets_url)"
   ]
  },
  {
   "cell_type": "code",
   "execution_count": 24,
   "metadata": {},
   "outputs": [
    {
     "data": {
      "text/plain": [
       "'InSight sol 495 (2020-04-17) low -94.0ºC (-137.2ºF) high -4.2ºC (24.4ºF)\\nwinds from the WNW at 4.6 m/s (10.4 mph) gusting to 16.7 m/s (37.3 mph)\\npressure at 6.60 hPa'"
      ]
     },
     "execution_count": 24,
     "metadata": {},
     "output_type": "execute_result"
    }
   ],
   "source": [
    "mars_weather = driver.find_element_by_xpath(\"/html/body/div/div/div/div[2]/main/div/div/div/div/div/div/div/div/div[2]/section/div/div/div/div[1]/div/div/div/article/div/div[2]/div[2]/div[2]/div[1]/div/span\")\n",
    "mars_weather.text"
   ]
  },
  {
   "cell_type": "markdown",
   "metadata": {},
   "source": [
    "## Part 4 Mars Facts"
   ]
  },
  {
   "cell_type": "code",
   "execution_count": 33,
   "metadata": {},
   "outputs": [
    {
     "data": {
      "text/html": [
       "<div>\n",
       "<style scoped>\n",
       "    .dataframe tbody tr th:only-of-type {\n",
       "        vertical-align: middle;\n",
       "    }\n",
       "\n",
       "    .dataframe tbody tr th {\n",
       "        vertical-align: top;\n",
       "    }\n",
       "\n",
       "    .dataframe thead th {\n",
       "        text-align: right;\n",
       "    }\n",
       "</style>\n",
       "<table border=\"1\" class=\"dataframe\">\n",
       "  <thead>\n",
       "    <tr style=\"text-align: right;\">\n",
       "      <th></th>\n",
       "      <th>Measure</th>\n",
       "      <th>Number</th>\n",
       "    </tr>\n",
       "  </thead>\n",
       "  <tbody>\n",
       "    <tr>\n",
       "      <th>0</th>\n",
       "      <td>Equatorial Diameter:</td>\n",
       "      <td>6,792 km</td>\n",
       "    </tr>\n",
       "    <tr>\n",
       "      <th>1</th>\n",
       "      <td>Polar Diameter:</td>\n",
       "      <td>6,752 km</td>\n",
       "    </tr>\n",
       "    <tr>\n",
       "      <th>2</th>\n",
       "      <td>Mass:</td>\n",
       "      <td>6.39 × 10^23 kg (0.11 Earths)</td>\n",
       "    </tr>\n",
       "    <tr>\n",
       "      <th>3</th>\n",
       "      <td>Moons:</td>\n",
       "      <td>2 (Phobos &amp; Deimos)</td>\n",
       "    </tr>\n",
       "    <tr>\n",
       "      <th>4</th>\n",
       "      <td>Orbit Distance:</td>\n",
       "      <td>227,943,824 km (1.38 AU)</td>\n",
       "    </tr>\n",
       "    <tr>\n",
       "      <th>5</th>\n",
       "      <td>Orbit Period:</td>\n",
       "      <td>687 days (1.9 years)</td>\n",
       "    </tr>\n",
       "    <tr>\n",
       "      <th>6</th>\n",
       "      <td>Surface Temperature:</td>\n",
       "      <td>-87 to -5 °C</td>\n",
       "    </tr>\n",
       "    <tr>\n",
       "      <th>7</th>\n",
       "      <td>First Record:</td>\n",
       "      <td>2nd millennium BC</td>\n",
       "    </tr>\n",
       "    <tr>\n",
       "      <th>8</th>\n",
       "      <td>Recorded By:</td>\n",
       "      <td>Egyptian astronomers</td>\n",
       "    </tr>\n",
       "  </tbody>\n",
       "</table>\n",
       "</div>"
      ],
      "text/plain": [
       "                Measure                         Number\n",
       "0  Equatorial Diameter:                       6,792 km\n",
       "1       Polar Diameter:                       6,752 km\n",
       "2                 Mass:  6.39 × 10^23 kg (0.11 Earths)\n",
       "3                Moons:            2 (Phobos & Deimos)\n",
       "4       Orbit Distance:       227,943,824 km (1.38 AU)\n",
       "5         Orbit Period:           687 days (1.9 years)\n",
       "6  Surface Temperature:                   -87 to -5 °C\n",
       "7         First Record:              2nd millennium BC\n",
       "8          Recorded By:           Egyptian astronomers"
      ]
     },
     "execution_count": 33,
     "metadata": {},
     "output_type": "execute_result"
    }
   ],
   "source": [
    "mars_fact_url = \"https://space-facts.com/mars/\"\n",
    "all_mars_fact_tables = pd.read_html(mars_fact_url)\n",
    "df_mars_facts = all_mars_fact_tables[0]\n",
    "df_mars_facts.columns = [\"Measure\", \"Number\"]\n",
    "df_mars_facts.head(10)"
   ]
  },
  {
   "cell_type": "markdown",
   "metadata": {},
   "source": [
    "## Part 5 Mars Hemispheres"
   ]
  },
  {
   "cell_type": "code",
   "execution_count": 61,
   "metadata": {},
   "outputs": [],
   "source": [
    "mars_hemisphere_url = \"https://astrogeology.usgs.gov/search/results?q=hemisphere+enhanced&k1=target&v1=Mars\"\n",
    "mars_hemisphere_response = requests.get(mars_hemisphere_url)\n",
    "if mars_hemisphere_response.status_code == 200:\n",
    "    mars_hemisphere_html = mars_hemisphere_response.text"
   ]
  },
  {
   "cell_type": "code",
   "execution_count": 66,
   "metadata": {},
   "outputs": [],
   "source": [
    "def get_full_image_link(link):\n",
    "    response = requests.get(link)\n",
    "    if response.status_code == 200:\n",
    "        html = response.text\n",
    "    soup = BeautifulSoup(html, \"html.parser\")\n",
    "    img_link = soup.find(\"a\", text=\"Original\").get(\"href\")\n",
    "    title = soup.find(\"h2\", class_=\"title\").text.split(\" Enhanced\")[0]\n",
    "    return [title, img_link]\n",
    "    "
   ]
  },
  {
   "cell_type": "code",
   "execution_count": 67,
   "metadata": {
    "scrolled": true
   },
   "outputs": [
    {
     "data": {
      "text/plain": [
       "[{'title': 'Cerberus Hemisphere',\n",
       "  'img_url': 'http://astropedia.astrogeology.usgs.gov/download/Mars/Viking/cerberus_enhanced.tif'},\n",
       " {'title': 'Schiaparelli Hemisphere',\n",
       "  'img_url': 'http://astropedia.astrogeology.usgs.gov/download/Mars/Viking/schiaparelli_enhanced.tif'},\n",
       " {'title': 'Syrtis Major Hemisphere',\n",
       "  'img_url': 'http://astropedia.astrogeology.usgs.gov/download/Mars/Viking/syrtis_major_enhanced.tif'},\n",
       " {'title': 'Valles Marineris Hemisphere',\n",
       "  'img_url': 'http://astropedia.astrogeology.usgs.gov/download/Mars/Viking/valles_marineris_enhanced.tif'}]"
      ]
     },
     "execution_count": 67,
     "metadata": {},
     "output_type": "execute_result"
    }
   ],
   "source": [
    "mars_hemisphere_soup = BeautifulSoup(mars_hemisphere_html, \"html.parser\")\n",
    "link_elements = mars_hemisphere_soup.findAll(\"a\", {\"class\": \"itemLink product-item\"})\n",
    "full_page_links = [dict(title=get_full_image_link(\"https://astrogeology.usgs.gov\" + le.get('href'))[0], img_url=get_full_image_link(\"https://astrogeology.usgs.gov\" + le.get('href'))[1]) for le in link_elements]\n",
    "full_page_links"
   ]
  },
  {
   "cell_type": "markdown",
   "metadata": {},
   "source": [
    "## Part 6 Mongo"
   ]
  },
  {
   "cell_type": "code",
   "execution_count": null,
   "metadata": {},
   "outputs": [],
   "source": [
    "def scrape_nasa_news(url,extra_posts=False):\n",
    "    '''Use this function to scrape the article titles and descriptions from \n",
    "    the nasa mars homepage and save them to mongo. \n",
    "    '''\n",
    "    # initialize mongo \n",
    "    conn = 'mongodb://localhost:27017'\n",
    "    client = pymongo.MongoClient(conn)\n",
    "\n",
    "    # initializing mongo db and collection \n",
    "    nasa_db = client.nasa_db\n",
    "    nasa_collection = nasa_db.articles\n",
    "\n",
    "    # declaring element names to grab\n",
    "    article_header = 'slide'\n",
    "    content_title = 'content_title'\n",
    "    content_body = 'article_teaser_body'\n",
    "    wait_element = 'news'\n",
    "    \n",
    "    # intializing webdriver\n",
    "    driver = webdriver.Chrome('C:/Users/L-Ram/Desktop/web-scraping-challenge/chromedriver.exe')\n",
    "    # get url and wait until page is fully loaded before proceeding\n",
    "    driver.get(url)\n",
    "    try:\n",
    "        element = WebDriverWait(driver, 10).until(\n",
    "            EC.presence_of_element_located((By.ID,wait_element))\n",
    "        )\n",
    "        # Prompt user for amount of posts to be returned\n",
    "        if extra_posts:\n",
    "            while True:\n",
    "                print('By default the site returns an 40 posts')\n",
    "                print(f'How many extra posts i.e. 1 = 40, 2 = 80,3 = 120')\n",
    "                posts = int(input())\n",
    "                if posts > 0:\n",
    "                    break\n",
    "            # Grab a the more button element from the html\n",
    "            more_button = driver.find_element_by_xpath('/html/body/div[3]/div/div[3]/div[3]/div/article/div/section/div/footer/a')\n",
    "            # click the more button to retrieve more posts\n",
    "            for post in range(posts):\n",
    "                more_button.click()\n",
    "                time.sleep(1)\n",
    "            \n",
    "        # Return a list of divs that hold the articles\n",
    "        articles = driver.find_elements_by_class_name(article_header)\n",
    "        # Iterate though and parse the articles to grab the titles and content\n",
    "        for article in articles:\n",
    "        # If element exists pass to a variable and create an object\n",
    "            try:\n",
    "                title = article.find_element_by_class_name(content_title).text\n",
    "                body = article.find_element_by_class_name(content_body).text\n",
    "                # post object with post title and body\n",
    "                post = {\n",
    "                    'title':title,\n",
    "                    'body': body\n",
    "                }\n",
    "                #insert the post object into mongo\n",
    "                nasa_collection.insert_one(post)\n",
    "                print(post)\n",
    "            except:\n",
    "                continue\n",
    "    except Exception as e:\n",
    "        print(e)\n",
    "    finally:\n",
    "        driver.quit()\n",
    "\n",
    "url = 'https://mars.nasa.gov/news/?page=0&per_page=40&order=publish_date+desc%2Ccreated_at+desc&search=&category=19%2C165%2C184%2C204&blank_scope=Latest'\n",
    "scrape_nasa_news(url,extra_posts=True)"
   ]
  }
 ],
 "metadata": {
  "kernelspec": {
   "display_name": "Python 3",
   "language": "python",
   "name": "python3"
  },
  "language_info": {
   "codemirror_mode": {
    "name": "ipython",
    "version": 3
   },
   "file_extension": ".py",
   "mimetype": "text/x-python",
   "name": "python",
   "nbconvert_exporter": "python",
   "pygments_lexer": "ipython3",
   "version": "3.7.6"
  }
 },
 "nbformat": 4,
 "nbformat_minor": 4
}
